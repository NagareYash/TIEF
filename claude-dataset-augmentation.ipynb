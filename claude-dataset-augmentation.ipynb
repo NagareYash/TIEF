{
 "cells": [
  {
   "cell_type": "code",
   "execution_count": null,
   "metadata": {
    "_cell_guid": "b1076dfc-b9ad-4769-8c92-a6c4dae69d19",
    "_uuid": "8f2839f25d086af736a60e9eeb907d3b93b6e0e5",
    "trusted": true
   },
   "outputs": [],
   "source": [
    "!pip install anthropic"
   ]
  },
  {
   "cell_type": "code",
   "execution_count": 2,
   "metadata": {
    "execution": {
     "iopub.execute_input": "2024-08-29T17:52:47.683456Z",
     "iopub.status.busy": "2024-08-29T17:52:47.682849Z",
     "iopub.status.idle": "2024-08-29T17:52:48.624117Z",
     "shell.execute_reply": "2024-08-29T17:52:48.623270Z",
     "shell.execute_reply.started": "2024-08-29T17:52:47.683410Z"
    },
    "trusted": true
   },
   "outputs": [],
   "source": [
    "import anthropic\n",
    "import pandas as pd\n",
    "import math\n",
    "import re\n",
    "import time"
   ]
  },
  {
   "cell_type": "code",
   "execution_count": 3,
   "metadata": {
    "execution": {
     "iopub.execute_input": "2024-08-29T17:52:48.629791Z",
     "iopub.status.busy": "2024-08-29T17:52:48.629436Z",
     "iopub.status.idle": "2024-08-29T17:52:48.648294Z",
     "shell.execute_reply": "2024-08-29T17:52:48.647607Z",
     "shell.execute_reply.started": "2024-08-29T17:52:48.629749Z"
    },
    "trusted": true
   },
   "outputs": [],
   "source": [
    "client = anthropic.Anthropic(\n",
    "    # defaults to os.environ.get(\"ANTHROPIC_API_KEY\")\n",
    "    api_key=\"\",\n",
    ")"
   ]
  },
  {
   "cell_type": "code",
   "execution_count": null,
   "metadata": {
    "trusted": true
   },
   "outputs": [],
   "source": [
    "message = client.messages.create(\n",
    "    model=\"claude-3-5-sonnet-20240620\",\n",
    "    max_tokens=8192,\n",
    "    messages=[\n",
    "        {\"role\": \"user\", \"content\": \"Based on the following real-life attack scenarios: 'During C0027, Scattered Spider impersonated legitimate IT personnel in phone calls and text messages either to direct victims to a credential harvesting site or getting victims to run commercial remote monitoring and management (RMM) tools. LAPSUS$ has called victims' help desk and impersonated legitimate users with previously gathered information in order to gain access to privileged accounts. During Operation Dream Job, Lazarus Group impersonated HR hiring personnel through LinkedIn messages and conducted interviews with victims in order to deceive them into downloading malware.', generate 97 additional procedure descriptions that closely relate to the MITRE technique ID T1656, technique name 'Impersonation', and tactic name 'Defense Evasion'. Please ensure that the new attack procedure descriptions emphasize the previous attack method specifically used for attack 'Impersonation' and the strategic objective 'Defense Evasion' used in these scenarios.\"\n",
    "        }]\n",
    ")"
   ]
  },
  {
   "cell_type": "code",
   "execution_count": null,
   "metadata": {
    "trusted": true
   },
   "outputs": [],
   "source": [
    "print(message.content)"
   ]
  },
  {
   "cell_type": "code",
   "execution_count": null,
   "metadata": {
    "trusted": true
   },
   "outputs": [],
   "source": [
    "print(message.content[0].text.split(\":\", 1)[1].strip())"
   ]
  },
  {
   "cell_type": "code",
   "execution_count": null,
   "metadata": {
    "trusted": true
   },
   "outputs": [],
   "source": [
    "cleaned_content = message.content[0].text.split(\":\", 1)[1].strip()"
   ]
  },
  {
   "cell_type": "code",
   "execution_count": 34,
   "metadata": {
    "execution": {
     "iopub.execute_input": "2024-08-28T10:10:59.786139Z",
     "iopub.status.busy": "2024-08-28T10:10:59.785701Z",
     "iopub.status.idle": "2024-08-28T10:10:59.837418Z",
     "shell.execute_reply": "2024-08-28T10:10:59.836581Z",
     "shell.execute_reply.started": "2024-08-28T10:10:59.786101Z"
    },
    "trusted": true
   },
   "outputs": [],
   "source": [
    "df = pd.read_csv(\"/kaggle/input/traindata/train_data.csv\")"
   ]
  },
  {
   "cell_type": "code",
   "execution_count": 35,
   "metadata": {
    "execution": {
     "iopub.execute_input": "2024-08-28T10:11:00.205364Z",
     "iopub.status.busy": "2024-08-28T10:11:00.204665Z",
     "iopub.status.idle": "2024-08-28T10:11:00.220904Z",
     "shell.execute_reply": "2024-08-28T10:11:00.219888Z",
     "shell.execute_reply.started": "2024-08-28T10:11:00.205323Z"
    },
    "trusted": true
   },
   "outputs": [
    {
     "data": {
      "text/html": [
       "<div>\n",
       "<style scoped>\n",
       "    .dataframe tbody tr th:only-of-type {\n",
       "        vertical-align: middle;\n",
       "    }\n",
       "\n",
       "    .dataframe tbody tr th {\n",
       "        vertical-align: top;\n",
       "    }\n",
       "\n",
       "    .dataframe thead th {\n",
       "        text-align: right;\n",
       "    }\n",
       "</style>\n",
       "<table border=\"1\" class=\"dataframe\">\n",
       "  <thead>\n",
       "    <tr style=\"text-align: right;\">\n",
       "      <th></th>\n",
       "      <th>Technique</th>\n",
       "      <th>ID</th>\n",
       "      <th>Tactic-Name</th>\n",
       "      <th>Technique-Name</th>\n",
       "      <th>SubTechnique-Name</th>\n",
       "      <th>Platforms</th>\n",
       "      <th>Description</th>\n",
       "      <th>id</th>\n",
       "    </tr>\n",
       "  </thead>\n",
       "  <tbody>\n",
       "    <tr>\n",
       "      <th>0</th>\n",
       "      <td>T1049</td>\n",
       "      <td>No sub-Techniques</td>\n",
       "      <td>Discovery</td>\n",
       "      <td>System Network Connections Discovery</td>\n",
       "      <td>No sub-Technique</td>\n",
       "      <td>IaaS, Linux, Network, Windows, macOS</td>\n",
       "      <td>admin@338 actors used the following command fo...</td>\n",
       "      <td>T1049</td>\n",
       "    </tr>\n",
       "    <tr>\n",
       "      <th>1</th>\n",
       "      <td>T1049</td>\n",
       "      <td>No sub-Techniques</td>\n",
       "      <td>Discovery</td>\n",
       "      <td>System Network Connections Discovery</td>\n",
       "      <td>No sub-Technique</td>\n",
       "      <td>IaaS, Linux, Network, Windows, macOS</td>\n",
       "      <td>Andariel has used the netstat -naop tcp comman...</td>\n",
       "      <td>T1049</td>\n",
       "    </tr>\n",
       "    <tr>\n",
       "      <th>2</th>\n",
       "      <td>T1049</td>\n",
       "      <td>No sub-Techniques</td>\n",
       "      <td>Discovery</td>\n",
       "      <td>System Network Connections Discovery</td>\n",
       "      <td>No sub-Technique</td>\n",
       "      <td>IaaS, Linux, Network, Windows, macOS</td>\n",
       "      <td>APT3 has a tool that can enumerate current net...</td>\n",
       "      <td>T1049</td>\n",
       "    </tr>\n",
       "    <tr>\n",
       "      <th>3</th>\n",
       "      <td>T1049</td>\n",
       "      <td>No sub-Techniques</td>\n",
       "      <td>Discovery</td>\n",
       "      <td>System Network Connections Discovery</td>\n",
       "      <td>No sub-Technique</td>\n",
       "      <td>IaaS, Linux, Network, Windows, macOS</td>\n",
       "      <td>APT38 installed a port monitoring tool, MAPMAK...</td>\n",
       "      <td>T1049</td>\n",
       "    </tr>\n",
       "    <tr>\n",
       "      <th>4</th>\n",
       "      <td>T1049</td>\n",
       "      <td>No sub-Techniques</td>\n",
       "      <td>Discovery</td>\n",
       "      <td>System Network Connections Discovery</td>\n",
       "      <td>No sub-Technique</td>\n",
       "      <td>IaaS, Linux, Network, Windows, macOS</td>\n",
       "      <td>APT41 has enumerated IP addresses of network r...</td>\n",
       "      <td>T1049</td>\n",
       "    </tr>\n",
       "    <tr>\n",
       "      <th>...</th>\n",
       "      <td>...</td>\n",
       "      <td>...</td>\n",
       "      <td>...</td>\n",
       "      <td>...</td>\n",
       "      <td>...</td>\n",
       "      <td>...</td>\n",
       "      <td>...</td>\n",
       "      <td>...</td>\n",
       "    </tr>\n",
       "    <tr>\n",
       "      <th>8432</th>\n",
       "      <td>T1481</td>\n",
       "      <td>T1481.001</td>\n",
       "      <td>Command and Control</td>\n",
       "      <td>Web Service</td>\n",
       "      <td>Dead Drop Resolver</td>\n",
       "      <td>NaN</td>\n",
       "      <td>Anubis can retrieve the C2 address from Twitte...</td>\n",
       "      <td>T1481.001</td>\n",
       "    </tr>\n",
       "    <tr>\n",
       "      <th>8433</th>\n",
       "      <td>T1481</td>\n",
       "      <td>T1481.001</td>\n",
       "      <td>Command and Control</td>\n",
       "      <td>Web Service</td>\n",
       "      <td>Dead Drop Resolver</td>\n",
       "      <td>NaN</td>\n",
       "      <td>Red Alert 2.0 can fetch a backup C2 domain fro...</td>\n",
       "      <td>T1481.001</td>\n",
       "    </tr>\n",
       "    <tr>\n",
       "      <th>8434</th>\n",
       "      <td>T1481</td>\n",
       "      <td>T1481.001</td>\n",
       "      <td>Command and Control</td>\n",
       "      <td>Web Service</td>\n",
       "      <td>Dead Drop Resolver</td>\n",
       "      <td>NaN</td>\n",
       "      <td>XLoader for Android has fetched its C2 address...</td>\n",
       "      <td>T1481.001</td>\n",
       "    </tr>\n",
       "    <tr>\n",
       "      <th>8435</th>\n",
       "      <td>T1623</td>\n",
       "      <td>T1623.001</td>\n",
       "      <td>Execution</td>\n",
       "      <td>Command and Scripting Interpreter</td>\n",
       "      <td>Unix Shell</td>\n",
       "      <td>NaN</td>\n",
       "      <td>Device attestation can often detect jailbroken...</td>\n",
       "      <td>T1623.001</td>\n",
       "    </tr>\n",
       "    <tr>\n",
       "      <th>8436</th>\n",
       "      <td>T1623</td>\n",
       "      <td>T1623.001</td>\n",
       "      <td>Execution</td>\n",
       "      <td>Command and Scripting Interpreter</td>\n",
       "      <td>Unix Shell</td>\n",
       "      <td>NaN</td>\n",
       "      <td>Mobile security products can typically detect ...</td>\n",
       "      <td>T1623.001</td>\n",
       "    </tr>\n",
       "  </tbody>\n",
       "</table>\n",
       "<p>8437 rows × 8 columns</p>\n",
       "</div>"
      ],
      "text/plain": [
       "     Technique                 ID          Tactic-Name  \\\n",
       "0        T1049  No sub-Techniques            Discovery   \n",
       "1        T1049  No sub-Techniques            Discovery   \n",
       "2        T1049  No sub-Techniques            Discovery   \n",
       "3        T1049  No sub-Techniques            Discovery   \n",
       "4        T1049  No sub-Techniques            Discovery   \n",
       "...        ...                ...                  ...   \n",
       "8432     T1481          T1481.001  Command and Control   \n",
       "8433     T1481          T1481.001  Command and Control   \n",
       "8434     T1481          T1481.001  Command and Control   \n",
       "8435     T1623          T1623.001            Execution   \n",
       "8436     T1623          T1623.001            Execution   \n",
       "\n",
       "                            Technique-Name   SubTechnique-Name  \\\n",
       "0     System Network Connections Discovery    No sub-Technique   \n",
       "1     System Network Connections Discovery    No sub-Technique   \n",
       "2     System Network Connections Discovery    No sub-Technique   \n",
       "3     System Network Connections Discovery    No sub-Technique   \n",
       "4     System Network Connections Discovery    No sub-Technique   \n",
       "...                                    ...                 ...   \n",
       "8432                           Web Service  Dead Drop Resolver   \n",
       "8433                           Web Service  Dead Drop Resolver   \n",
       "8434                           Web Service  Dead Drop Resolver   \n",
       "8435     Command and Scripting Interpreter          Unix Shell   \n",
       "8436     Command and Scripting Interpreter          Unix Shell   \n",
       "\n",
       "                                 Platforms  \\\n",
       "0     IaaS, Linux, Network, Windows, macOS   \n",
       "1     IaaS, Linux, Network, Windows, macOS   \n",
       "2     IaaS, Linux, Network, Windows, macOS   \n",
       "3     IaaS, Linux, Network, Windows, macOS   \n",
       "4     IaaS, Linux, Network, Windows, macOS   \n",
       "...                                    ...   \n",
       "8432                                   NaN   \n",
       "8433                                   NaN   \n",
       "8434                                   NaN   \n",
       "8435                                   NaN   \n",
       "8436                                   NaN   \n",
       "\n",
       "                                            Description         id  \n",
       "0     admin@338 actors used the following command fo...      T1049  \n",
       "1     Andariel has used the netstat -naop tcp comman...      T1049  \n",
       "2     APT3 has a tool that can enumerate current net...      T1049  \n",
       "3     APT38 installed a port monitoring tool, MAPMAK...      T1049  \n",
       "4     APT41 has enumerated IP addresses of network r...      T1049  \n",
       "...                                                 ...        ...  \n",
       "8432  Anubis can retrieve the C2 address from Twitte...  T1481.001  \n",
       "8433  Red Alert 2.0 can fetch a backup C2 domain fro...  T1481.001  \n",
       "8434  XLoader for Android has fetched its C2 address...  T1481.001  \n",
       "8435  Device attestation can often detect jailbroken...  T1623.001  \n",
       "8436  Mobile security products can typically detect ...  T1623.001  \n",
       "\n",
       "[8437 rows x 8 columns]"
      ]
     },
     "execution_count": 35,
     "metadata": {},
     "output_type": "execute_result"
    }
   ],
   "source": [
    "df"
   ]
  },
  {
   "cell_type": "code",
   "execution_count": 36,
   "metadata": {
    "execution": {
     "iopub.execute_input": "2024-08-28T10:11:01.301417Z",
     "iopub.status.busy": "2024-08-28T10:11:01.300543Z",
     "iopub.status.idle": "2024-08-28T10:11:01.308003Z",
     "shell.execute_reply": "2024-08-28T10:11:01.306969Z",
     "shell.execute_reply.started": "2024-08-28T10:11:01.301380Z"
    },
    "trusted": true
   },
   "outputs": [],
   "source": [
    "id_counts = df.groupby('id').size()"
   ]
  },
  {
   "cell_type": "code",
   "execution_count": 37,
   "metadata": {
    "execution": {
     "iopub.execute_input": "2024-08-28T10:11:06.631506Z",
     "iopub.status.busy": "2024-08-28T10:11:06.630606Z",
     "iopub.status.idle": "2024-08-28T10:11:06.641508Z",
     "shell.execute_reply": "2024-08-28T10:11:06.640501Z",
     "shell.execute_reply.started": "2024-08-28T10:11:06.631417Z"
    },
    "trusted": true
   },
   "outputs": [
    {
     "data": {
      "text/plain": [
       "id\n",
       "T0813    1\n",
       "T0815    2\n",
       "T0826    3\n",
       "T0828    1\n",
       "T0829    2\n",
       "        ..\n",
       "T1656    3\n",
       "T1657    1\n",
       "T1659    2\n",
       "T1661    2\n",
       "T1663    2\n",
       "Length: 537, dtype: int64"
      ]
     },
     "execution_count": 37,
     "metadata": {},
     "output_type": "execute_result"
    }
   ],
   "source": [
    "id_counts"
   ]
  },
  {
   "cell_type": "code",
   "execution_count": 38,
   "metadata": {
    "execution": {
     "iopub.execute_input": "2024-08-28T10:12:03.052191Z",
     "iopub.status.busy": "2024-08-28T10:12:03.051485Z",
     "iopub.status.idle": "2024-08-28T10:12:03.063860Z",
     "shell.execute_reply": "2024-08-28T10:12:03.062863Z",
     "shell.execute_reply.started": "2024-08-28T10:12:03.052148Z"
    },
    "trusted": true
   },
   "outputs": [],
   "source": [
    "with open('id_counts_before.txt', 'w') as f:\n",
    "    f.write(id_counts.to_string())"
   ]
  },
  {
   "cell_type": "code",
   "execution_count": 11,
   "metadata": {
    "execution": {
     "iopub.execute_input": "2024-08-28T08:48:12.242262Z",
     "iopub.status.busy": "2024-08-28T08:48:12.241946Z",
     "iopub.status.idle": "2024-08-28T08:48:12.250412Z",
     "shell.execute_reply": "2024-08-28T08:48:12.249239Z",
     "shell.execute_reply.started": "2024-08-28T08:48:12.242217Z"
    },
    "trusted": true
   },
   "outputs": [],
   "source": [
    "id_less_than_100 = id_counts[id_counts<100]"
   ]
  },
  {
   "cell_type": "code",
   "execution_count": 12,
   "metadata": {
    "execution": {
     "iopub.execute_input": "2024-08-28T08:48:12.252117Z",
     "iopub.status.busy": "2024-08-28T08:48:12.251803Z",
     "iopub.status.idle": "2024-08-28T08:48:12.263999Z",
     "shell.execute_reply": "2024-08-28T08:48:12.262969Z",
     "shell.execute_reply.started": "2024-08-28T08:48:12.252083Z"
    },
    "trusted": true
   },
   "outputs": [
    {
     "data": {
      "text/plain": [
       "id\n",
       "T0813    1\n",
       "T0815    2\n",
       "T0826    3\n",
       "T0828    1\n",
       "T0829    2\n",
       "        ..\n",
       "T1656    3\n",
       "T1657    1\n",
       "T1659    2\n",
       "T1661    2\n",
       "T1663    2\n",
       "Length: 518, dtype: int64"
      ]
     },
     "execution_count": 12,
     "metadata": {},
     "output_type": "execute_result"
    }
   ],
   "source": [
    "id_less_than_100"
   ]
  },
  {
   "cell_type": "code",
   "execution_count": 13,
   "metadata": {
    "execution": {
     "iopub.execute_input": "2024-08-28T08:48:12.267876Z",
     "iopub.status.busy": "2024-08-28T08:48:12.267528Z",
     "iopub.status.idle": "2024-08-28T08:48:12.273581Z",
     "shell.execute_reply": "2024-08-28T08:48:12.272660Z",
     "shell.execute_reply.started": "2024-08-28T08:48:12.267840Z"
    },
    "trusted": true
   },
   "outputs": [],
   "source": [
    "id_list = id_less_than_100.index.tolist()"
   ]
  },
  {
   "cell_type": "code",
   "execution_count": 14,
   "metadata": {
    "execution": {
     "iopub.execute_input": "2024-08-28T08:48:12.275695Z",
     "iopub.status.busy": "2024-08-28T08:48:12.275061Z",
     "iopub.status.idle": "2024-08-28T08:48:12.283535Z",
     "shell.execute_reply": "2024-08-28T08:48:12.282504Z",
     "shell.execute_reply.started": "2024-08-28T08:48:12.275648Z"
    },
    "trusted": true
   },
   "outputs": [],
   "source": [
    "ids_per_file = 50"
   ]
  },
  {
   "cell_type": "code",
   "execution_count": 15,
   "metadata": {
    "execution": {
     "iopub.execute_input": "2024-08-28T08:48:12.285254Z",
     "iopub.status.busy": "2024-08-28T08:48:12.284878Z",
     "iopub.status.idle": "2024-08-28T08:48:12.292850Z",
     "shell.execute_reply": "2024-08-28T08:48:12.291869Z",
     "shell.execute_reply.started": "2024-08-28T08:48:12.285214Z"
    },
    "trusted": true
   },
   "outputs": [],
   "source": [
    "num_files = math.ceil(len(id_list) / ids_per_file)"
   ]
  },
  {
   "cell_type": "code",
   "execution_count": 16,
   "metadata": {
    "execution": {
     "iopub.execute_input": "2024-08-28T08:48:12.294810Z",
     "iopub.status.busy": "2024-08-28T08:48:12.294400Z",
     "iopub.status.idle": "2024-08-28T08:48:12.303747Z",
     "shell.execute_reply": "2024-08-28T08:48:12.302849Z",
     "shell.execute_reply.started": "2024-08-28T08:48:12.294766Z"
    },
    "trusted": true
   },
   "outputs": [
    {
     "data": {
      "text/plain": [
       "11"
      ]
     },
     "execution_count": 16,
     "metadata": {},
     "output_type": "execute_result"
    }
   ],
   "source": [
    "num_files"
   ]
  },
  {
   "cell_type": "code",
   "execution_count": 17,
   "metadata": {
    "execution": {
     "iopub.execute_input": "2024-08-28T08:48:12.305600Z",
     "iopub.status.busy": "2024-08-28T08:48:12.305200Z",
     "iopub.status.idle": "2024-08-28T08:48:12.313276Z",
     "shell.execute_reply": "2024-08-28T08:48:12.312430Z",
     "shell.execute_reply.started": "2024-08-28T08:48:12.305554Z"
    },
    "trusted": true
   },
   "outputs": [],
   "source": [
    "id_chunks = [id_list[i:i + ids_per_file] for i in range(0, len(id_list), ids_per_file)]"
   ]
  },
  {
   "cell_type": "code",
   "execution_count": 18,
   "metadata": {
    "execution": {
     "iopub.execute_input": "2024-08-28T08:48:12.315148Z",
     "iopub.status.busy": "2024-08-28T08:48:12.314765Z",
     "iopub.status.idle": "2024-08-28T08:48:12.407739Z",
     "shell.execute_reply": "2024-08-28T08:48:12.406714Z",
     "shell.execute_reply.started": "2024-08-28T08:48:12.315105Z"
    },
    "trusted": true
   },
   "outputs": [],
   "source": [
    "for i, id_chunk in enumerate(id_chunks):\n",
    "    # Filter the original DataFrame to include only rows with the current chunk of IDs\n",
    "    df_chunk = df[df['id'].isin(id_chunk)]\n",
    "    \n",
    "    # Save the chunk to a new CSV file\n",
    "    df_chunk.to_csv(f'ids_chunk_{i+1}.csv', index=False)"
   ]
  },
  {
   "cell_type": "code",
   "execution_count": 19,
   "metadata": {
    "execution": {
     "iopub.execute_input": "2024-08-28T08:48:12.409481Z",
     "iopub.status.busy": "2024-08-28T08:48:12.409123Z",
     "iopub.status.idle": "2024-08-28T08:48:12.463590Z",
     "shell.execute_reply": "2024-08-28T08:48:12.462613Z",
     "shell.execute_reply.started": "2024-08-28T08:48:12.409419Z"
    },
    "trusted": true
   },
   "outputs": [
    {
     "name": "stdout",
     "output_type": "stream",
     "text": [
      "File ids_chunk_1.csv has 50 unique IDs.\n",
      "File ids_chunk_2.csv has 50 unique IDs.\n",
      "File ids_chunk_3.csv has 50 unique IDs.\n",
      "File ids_chunk_4.csv has 50 unique IDs.\n",
      "File ids_chunk_5.csv has 50 unique IDs.\n",
      "File ids_chunk_6.csv has 50 unique IDs.\n",
      "File ids_chunk_7.csv has 50 unique IDs.\n",
      "File ids_chunk_8.csv has 50 unique IDs.\n",
      "File ids_chunk_9.csv has 50 unique IDs.\n",
      "File ids_chunk_10.csv has 50 unique IDs.\n",
      "File ids_chunk_11.csv has 18 unique IDs.\n",
      "Total number of unique IDs across all files: 518\n"
     ]
    }
   ],
   "source": [
    "# List to store the number of unique IDs in each file\n",
    "id_counts_per_file = []\n",
    "\n",
    "# Number of files generated\n",
    "num_files = 11  # For example, 5 files with 100 IDs and 1 file with 18 IDs\n",
    "\n",
    "for i in range(1, num_files + 1):\n",
    "    # Load each CSV file\n",
    "    df_chunk = pd.read_csv(f'ids_chunk_{i}.csv')\n",
    "    \n",
    "    # Count the number of unique IDs in this chunk\n",
    "    unique_ids = df_chunk['id'].nunique()\n",
    "    \n",
    "    # Append the count to the list\n",
    "    id_counts_per_file.append(unique_ids)\n",
    "    \n",
    "    # Print the count for verification\n",
    "    print(f'File ids_chunk_{i}.csv has {unique_ids} unique IDs.')\n",
    "\n",
    "# Optional: Print the total number of IDs across all files\n",
    "print(f'Total number of unique IDs across all files: {sum(id_counts_per_file)}')"
   ]
  },
  {
   "cell_type": "code",
   "execution_count": 20,
   "metadata": {
    "execution": {
     "iopub.execute_input": "2024-08-28T08:48:12.465218Z",
     "iopub.status.busy": "2024-08-28T08:48:12.464887Z",
     "iopub.status.idle": "2024-08-28T08:48:12.473814Z",
     "shell.execute_reply": "2024-08-28T08:48:12.472829Z",
     "shell.execute_reply.started": "2024-08-28T08:48:12.465181Z"
    },
    "trusted": true
   },
   "outputs": [
    {
     "name": "stdout",
     "output_type": "stream",
     "text": [
      "Total IDs with less than 100 occurrences: 518\n"
     ]
    }
   ],
   "source": [
    "# Re-check the filtered list of IDs\n",
    "filtered_id_counts = df.groupby('id').size()\n",
    "ids_less_than_100 = filtered_id_counts[filtered_id_counts < 100]\n",
    "id_list = ids_less_than_100.index.tolist()\n",
    "\n",
    "print(f'Total IDs with less than 100 occurrences: {len(id_list)}')"
   ]
  },
  {
   "cell_type": "code",
   "execution_count": 7,
   "metadata": {
    "execution": {
     "iopub.execute_input": "2024-08-29T17:55:01.439538Z",
     "iopub.status.busy": "2024-08-29T17:55:01.438344Z",
     "iopub.status.idle": "2024-08-29T17:55:01.445913Z",
     "shell.execute_reply": "2024-08-29T17:55:01.444682Z",
     "shell.execute_reply.started": "2024-08-29T17:55:01.439481Z"
    },
    "trusted": true
   },
   "outputs": [],
   "source": [
    "# Define the cleaning function\n",
    "def clean_text(text):\n",
    "    # First, split at the first colon and take the part after it\n",
    "    try:\n",
    "        text_after_colon = text.split(\":\", 1)[1].strip()\n",
    "    except IndexError:\n",
    "        text_after_colon = text.strip()\n",
    "    \n",
    "    # Split the text into lines\n",
    "    lines = text_after_colon.split('\\n')\n",
    "    \n",
    "    # Remove numbers followed by a dot and store only the sentences\n",
    "    cleaned_sentences = []\n",
    "    for line in lines:\n",
    "        cleaned_line = re.sub(r'^\\d+\\.\\s*', '', line)\n",
    "        cleaned_sentences.append(cleaned_line)\n",
    "    \n",
    "    # Join the cleaned sentences back into a single text block or list of sentences\n",
    "    cleaned_text = \" \".join(cleaned_sentences).strip()\n",
    "    \n",
    "    return cleaned_text"
   ]
  },
  {
   "cell_type": "code",
   "execution_count": 22,
   "metadata": {
    "execution": {
     "iopub.execute_input": "2024-08-28T08:48:13.340022Z",
     "iopub.status.busy": "2024-08-28T08:48:13.339642Z",
     "iopub.status.idle": "2024-08-28T08:48:13.387075Z",
     "shell.execute_reply": "2024-08-28T08:48:13.386101Z",
     "shell.execute_reply.started": "2024-08-28T08:48:13.339985Z"
    },
    "trusted": true
   },
   "outputs": [],
   "source": [
    "ids_chunk_1 = pd.read_csv(\"/kaggle/working/ids_chunk_1.csv\")\n",
    "ids_chunk_2 = pd.read_csv(\"/kaggle/working/ids_chunk_2.csv\")\n",
    "ids_chunk_3 = pd.read_csv(\"/kaggle/working/ids_chunk_3.csv\")\n",
    "ids_chunk_4 = pd.read_csv(\"/kaggle/working/ids_chunk_4.csv\")\n",
    "ids_chunk_5 = pd.read_csv(\"/kaggle/working/ids_chunk_5.csv\")\n",
    "ids_chunk_6 = pd.read_csv(\"/kaggle/working/ids_chunk_6.csv\")\n",
    "ids_chunk_7 = pd.read_csv(\"/kaggle/working/ids_chunk_7.csv\")\n",
    "ids_chunk_8 = pd.read_csv(\"/kaggle/working/ids_chunk_8.csv\")\n",
    "ids_chunk_9 = pd.read_csv(\"/kaggle/working/ids_chunk_9.csv\")\n",
    "ids_chunk_10 = pd.read_csv(\"/kaggle/working/ids_chunk_10.csv\")\n",
    "ids_chunk_11 = pd.read_csv(\"/kaggle/working/ids_chunk_11.csv\")"
   ]
  },
  {
   "cell_type": "code",
   "execution_count": 4,
   "metadata": {
    "execution": {
     "iopub.execute_input": "2024-08-29T17:54:12.494987Z",
     "iopub.status.busy": "2024-08-29T17:54:12.494577Z",
     "iopub.status.idle": "2024-08-29T17:54:12.519401Z",
     "shell.execute_reply": "2024-08-29T17:54:12.518371Z",
     "shell.execute_reply.started": "2024-08-29T17:54:12.494945Z"
    },
    "trusted": true
   },
   "outputs": [],
   "source": [
    "missing = pd.read_csv(\"/kaggle/input/missing-mitre-data/test_set_missing_ids.csv\")"
   ]
  },
  {
   "cell_type": "code",
   "execution_count": 5,
   "metadata": {
    "execution": {
     "iopub.execute_input": "2024-08-29T17:54:17.397112Z",
     "iopub.status.busy": "2024-08-29T17:54:17.396394Z",
     "iopub.status.idle": "2024-08-29T17:54:17.428882Z",
     "shell.execute_reply": "2024-08-29T17:54:17.427750Z",
     "shell.execute_reply.started": "2024-08-29T17:54:17.397068Z"
    },
    "trusted": true
   },
   "outputs": [
    {
     "data": {
      "text/html": [
       "<div>\n",
       "<style scoped>\n",
       "    .dataframe tbody tr th:only-of-type {\n",
       "        vertical-align: middle;\n",
       "    }\n",
       "\n",
       "    .dataframe tbody tr th {\n",
       "        vertical-align: top;\n",
       "    }\n",
       "\n",
       "    .dataframe thead th {\n",
       "        text-align: right;\n",
       "    }\n",
       "</style>\n",
       "<table border=\"1\" class=\"dataframe\">\n",
       "  <thead>\n",
       "    <tr style=\"text-align: right;\">\n",
       "      <th></th>\n",
       "      <th>Technique</th>\n",
       "      <th>ID</th>\n",
       "      <th>Tactic-Name</th>\n",
       "      <th>Technique-Name</th>\n",
       "      <th>SubTechnique-Name</th>\n",
       "      <th>Platforms</th>\n",
       "      <th>Description</th>\n",
       "      <th>id</th>\n",
       "    </tr>\n",
       "  </thead>\n",
       "  <tbody>\n",
       "    <tr>\n",
       "      <th>0</th>\n",
       "      <td>T0827</td>\n",
       "      <td>No sub-Techniques</td>\n",
       "      <td>Impact</td>\n",
       "      <td>Loss of Control</td>\n",
       "      <td>No sub-Technique</td>\n",
       "      <td>NaN</td>\n",
       "      <td>Provide operators with redundant, out-of-band ...</td>\n",
       "      <td>T0827</td>\n",
       "    </tr>\n",
       "    <tr>\n",
       "      <th>1</th>\n",
       "      <td>T1647</td>\n",
       "      <td>No sub-Techniques</td>\n",
       "      <td>Defense Evasion</td>\n",
       "      <td>Plist File Modification</td>\n",
       "      <td>No sub-Technique</td>\n",
       "      <td>macOS</td>\n",
       "      <td>XCSSET uses the plutil command to modify the L...</td>\n",
       "      <td>T1647</td>\n",
       "    </tr>\n",
       "    <tr>\n",
       "      <th>2</th>\n",
       "      <td>T0837</td>\n",
       "      <td>No sub-Techniques</td>\n",
       "      <td>Impact</td>\n",
       "      <td>Loss of Protection</td>\n",
       "      <td>No sub-Technique</td>\n",
       "      <td>NaN</td>\n",
       "      <td>Industroyer contained a module which leveraged...</td>\n",
       "      <td>T0837</td>\n",
       "    </tr>\n",
       "    <tr>\n",
       "      <th>3</th>\n",
       "      <td>T0880</td>\n",
       "      <td>No sub-Techniques</td>\n",
       "      <td>Impact</td>\n",
       "      <td>Loss of Safety</td>\n",
       "      <td>No sub-Technique</td>\n",
       "      <td>NaN</td>\n",
       "      <td>Protection devices should have minimal digital...</td>\n",
       "      <td>T0880</td>\n",
       "    </tr>\n",
       "    <tr>\n",
       "      <th>4</th>\n",
       "      <td>T1658</td>\n",
       "      <td>No sub-Techniques</td>\n",
       "      <td>Execution</td>\n",
       "      <td>Exploitation for Client Execution</td>\n",
       "      <td>No sub-Technique</td>\n",
       "      <td>NaN</td>\n",
       "      <td>Security updates frequently contain patches to...</td>\n",
       "      <td>T1658</td>\n",
       "    </tr>\n",
       "    <tr>\n",
       "      <th>5</th>\n",
       "      <td>T1516</td>\n",
       "      <td>No sub-Techniques</td>\n",
       "      <td>Defense Evasion, Impact</td>\n",
       "      <td>Input Injection</td>\n",
       "      <td>No sub-Technique</td>\n",
       "      <td>NaN</td>\n",
       "      <td>Users should be warned against granting access...</td>\n",
       "      <td>T1516</td>\n",
       "    </tr>\n",
       "    <tr>\n",
       "      <th>6</th>\n",
       "      <td>T1623</td>\n",
       "      <td>No sub-Techniques</td>\n",
       "      <td>Execution</td>\n",
       "      <td>Command and Scripting Interpreter</td>\n",
       "      <td>No sub-Technique</td>\n",
       "      <td>NaN</td>\n",
       "      <td>TianySpy can steal information via malicious J...</td>\n",
       "      <td>T1623</td>\n",
       "    </tr>\n",
       "    <tr>\n",
       "      <th>7</th>\n",
       "      <td>T1651</td>\n",
       "      <td>No sub-Techniques</td>\n",
       "      <td>Execution</td>\n",
       "      <td>Cloud Administration Command</td>\n",
       "      <td>No sub-Technique</td>\n",
       "      <td>Azure AD, IaaS</td>\n",
       "      <td>APT29 has used Azure Run Command and Azure Adm...</td>\n",
       "      <td>T1651</td>\n",
       "    </tr>\n",
       "    <tr>\n",
       "      <th>8</th>\n",
       "      <td>T0880</td>\n",
       "      <td>No sub-Techniques</td>\n",
       "      <td>Impact</td>\n",
       "      <td>Loss of Safety</td>\n",
       "      <td>No sub-Technique</td>\n",
       "      <td>NaN</td>\n",
       "      <td>Ensure that all SIS are segmented from operati...</td>\n",
       "      <td>T0880</td>\n",
       "    </tr>\n",
       "    <tr>\n",
       "      <th>9</th>\n",
       "      <td>T1651</td>\n",
       "      <td>No sub-Techniques</td>\n",
       "      <td>Execution</td>\n",
       "      <td>Cloud Administration Command</td>\n",
       "      <td>No sub-Technique</td>\n",
       "      <td>Azure AD, IaaS</td>\n",
       "      <td>Pacu can run commands on EC2 instances using A...</td>\n",
       "      <td>T1651</td>\n",
       "    </tr>\n",
       "    <tr>\n",
       "      <th>10</th>\n",
       "      <td>T0827</td>\n",
       "      <td>No sub-Techniques</td>\n",
       "      <td>Impact</td>\n",
       "      <td>Loss of Control</td>\n",
       "      <td>No sub-Technique</td>\n",
       "      <td>NaN</td>\n",
       "      <td>Take and store data backups from end user syst...</td>\n",
       "      <td>T0827</td>\n",
       "    </tr>\n",
       "    <tr>\n",
       "      <th>11</th>\n",
       "      <td>T1651</td>\n",
       "      <td>No sub-Techniques</td>\n",
       "      <td>Execution</td>\n",
       "      <td>Cloud Administration Command</td>\n",
       "      <td>No sub-Technique</td>\n",
       "      <td>Azure AD, IaaS</td>\n",
       "      <td>AADInternals can execute commands on Azure vir...</td>\n",
       "      <td>T1651</td>\n",
       "    </tr>\n",
       "    <tr>\n",
       "      <th>12</th>\n",
       "      <td>T1471</td>\n",
       "      <td>No sub-Techniques</td>\n",
       "      <td>Impact</td>\n",
       "      <td>Data Encrypted for Impact</td>\n",
       "      <td>No sub-Technique</td>\n",
       "      <td>NaN</td>\n",
       "      <td>Application vetting services may be able to de...</td>\n",
       "      <td>T1471</td>\n",
       "    </tr>\n",
       "    <tr>\n",
       "      <th>13</th>\n",
       "      <td>T1582</td>\n",
       "      <td>No sub-Techniques</td>\n",
       "      <td>Impact</td>\n",
       "      <td>SMS Control</td>\n",
       "      <td>No sub-Technique</td>\n",
       "      <td>NaN</td>\n",
       "      <td>Users should be encouraged to be very careful ...</td>\n",
       "      <td>T1582</td>\n",
       "    </tr>\n",
       "    <tr>\n",
       "      <th>14</th>\n",
       "      <td>T1643</td>\n",
       "      <td>No sub-Techniques</td>\n",
       "      <td>Impact</td>\n",
       "      <td>Generate Traffic from Victim</td>\n",
       "      <td>No sub-Technique</td>\n",
       "      <td>NaN</td>\n",
       "      <td>Users should be advised that applications gene...</td>\n",
       "      <td>T1643</td>\n",
       "    </tr>\n",
       "    <tr>\n",
       "      <th>15</th>\n",
       "      <td>T1625</td>\n",
       "      <td>No sub-Techniques</td>\n",
       "      <td>Persistence</td>\n",
       "      <td>Hijack Execution Flow</td>\n",
       "      <td>No sub-Technique</td>\n",
       "      <td>NaN</td>\n",
       "      <td>YiSpecter has hijacked normal application’s la...</td>\n",
       "      <td>T1625</td>\n",
       "    </tr>\n",
       "    <tr>\n",
       "      <th>16</th>\n",
       "      <td>T1624</td>\n",
       "      <td>No sub-Techniques</td>\n",
       "      <td>Persistence</td>\n",
       "      <td>Event Triggered Execution</td>\n",
       "      <td>No sub-Technique</td>\n",
       "      <td>NaN</td>\n",
       "      <td>BOULDSPY uses a background service that can re...</td>\n",
       "      <td>T1624</td>\n",
       "    </tr>\n",
       "    <tr>\n",
       "      <th>17</th>\n",
       "      <td>T1630</td>\n",
       "      <td>No sub-Techniques</td>\n",
       "      <td>Defense Evasion</td>\n",
       "      <td>Indicator Removal on Host</td>\n",
       "      <td>No sub-Technique</td>\n",
       "      <td>NaN</td>\n",
       "      <td>Chameleon can remove artifacts of its presence...</td>\n",
       "      <td>T1630</td>\n",
       "    </tr>\n",
       "    <tr>\n",
       "      <th>18</th>\n",
       "      <td>T1658</td>\n",
       "      <td>No sub-Techniques</td>\n",
       "      <td>Execution</td>\n",
       "      <td>Exploitation for Client Execution</td>\n",
       "      <td>No sub-Technique</td>\n",
       "      <td>NaN</td>\n",
       "      <td>Users should be wary of iMessages from unknown...</td>\n",
       "      <td>T1658</td>\n",
       "    </tr>\n",
       "    <tr>\n",
       "      <th>19</th>\n",
       "      <td>T1541</td>\n",
       "      <td>No sub-Techniques</td>\n",
       "      <td>Defense Evasion, Persistence</td>\n",
       "      <td>Foreground Persistence</td>\n",
       "      <td>No sub-Technique</td>\n",
       "      <td>NaN</td>\n",
       "      <td>If a user sees a persistent notification they ...</td>\n",
       "      <td>T1541</td>\n",
       "    </tr>\n",
       "    <tr>\n",
       "      <th>20</th>\n",
       "      <td>T1422</td>\n",
       "      <td>No sub-Techniques</td>\n",
       "      <td>Discovery</td>\n",
       "      <td>System Network Configuration Discovery</td>\n",
       "      <td>No sub-Technique</td>\n",
       "      <td>NaN</td>\n",
       "      <td>Android 10 introduced changes that prevent nor...</td>\n",
       "      <td>T1422</td>\n",
       "    </tr>\n",
       "    <tr>\n",
       "      <th>21</th>\n",
       "      <td>T0827</td>\n",
       "      <td>No sub-Techniques</td>\n",
       "      <td>Impact</td>\n",
       "      <td>Loss of Control</td>\n",
       "      <td>No sub-Technique</td>\n",
       "      <td>NaN</td>\n",
       "      <td>Hot-standbys in diverse locations can ensure c...</td>\n",
       "      <td>T0827</td>\n",
       "    </tr>\n",
       "    <tr>\n",
       "      <th>22</th>\n",
       "      <td>T1516</td>\n",
       "      <td>No sub-Techniques</td>\n",
       "      <td>Defense Evasion, Impact</td>\n",
       "      <td>Input Injection</td>\n",
       "      <td>No sub-Technique</td>\n",
       "      <td>NaN</td>\n",
       "      <td>An EMM/MDM can use the Android DevicePolicyMan...</td>\n",
       "      <td>T1516</td>\n",
       "    </tr>\n",
       "    <tr>\n",
       "      <th>23</th>\n",
       "      <td>T1512</td>\n",
       "      <td>No sub-Techniques</td>\n",
       "      <td>Collection</td>\n",
       "      <td>Video Capture</td>\n",
       "      <td>No sub-Technique</td>\n",
       "      <td>NaN</td>\n",
       "      <td>Android 9 and above restricts access to the mi...</td>\n",
       "      <td>T1512</td>\n",
       "    </tr>\n",
       "  </tbody>\n",
       "</table>\n",
       "</div>"
      ],
      "text/plain": [
       "   Technique                 ID                   Tactic-Name  \\\n",
       "0      T0827  No sub-Techniques                        Impact   \n",
       "1      T1647  No sub-Techniques               Defense Evasion   \n",
       "2      T0837  No sub-Techniques                        Impact   \n",
       "3      T0880  No sub-Techniques                        Impact   \n",
       "4      T1658  No sub-Techniques                     Execution   \n",
       "5      T1516  No sub-Techniques       Defense Evasion, Impact   \n",
       "6      T1623  No sub-Techniques                     Execution   \n",
       "7      T1651  No sub-Techniques                     Execution   \n",
       "8      T0880  No sub-Techniques                        Impact   \n",
       "9      T1651  No sub-Techniques                     Execution   \n",
       "10     T0827  No sub-Techniques                        Impact   \n",
       "11     T1651  No sub-Techniques                     Execution   \n",
       "12     T1471  No sub-Techniques                        Impact   \n",
       "13     T1582  No sub-Techniques                        Impact   \n",
       "14     T1643  No sub-Techniques                        Impact   \n",
       "15     T1625  No sub-Techniques                   Persistence   \n",
       "16     T1624  No sub-Techniques                   Persistence   \n",
       "17     T1630  No sub-Techniques               Defense Evasion   \n",
       "18     T1658  No sub-Techniques                     Execution   \n",
       "19     T1541  No sub-Techniques  Defense Evasion, Persistence   \n",
       "20     T1422  No sub-Techniques                     Discovery   \n",
       "21     T0827  No sub-Techniques                        Impact   \n",
       "22     T1516  No sub-Techniques       Defense Evasion, Impact   \n",
       "23     T1512  No sub-Techniques                    Collection   \n",
       "\n",
       "                            Technique-Name SubTechnique-Name       Platforms  \\\n",
       "0                          Loss of Control  No sub-Technique             NaN   \n",
       "1                  Plist File Modification  No sub-Technique           macOS   \n",
       "2                       Loss of Protection  No sub-Technique             NaN   \n",
       "3                           Loss of Safety  No sub-Technique             NaN   \n",
       "4        Exploitation for Client Execution  No sub-Technique             NaN   \n",
       "5                          Input Injection  No sub-Technique             NaN   \n",
       "6        Command and Scripting Interpreter  No sub-Technique             NaN   \n",
       "7             Cloud Administration Command  No sub-Technique  Azure AD, IaaS   \n",
       "8                           Loss of Safety  No sub-Technique             NaN   \n",
       "9             Cloud Administration Command  No sub-Technique  Azure AD, IaaS   \n",
       "10                         Loss of Control  No sub-Technique             NaN   \n",
       "11            Cloud Administration Command  No sub-Technique  Azure AD, IaaS   \n",
       "12               Data Encrypted for Impact  No sub-Technique             NaN   \n",
       "13                             SMS Control  No sub-Technique             NaN   \n",
       "14            Generate Traffic from Victim  No sub-Technique             NaN   \n",
       "15                   Hijack Execution Flow  No sub-Technique             NaN   \n",
       "16               Event Triggered Execution  No sub-Technique             NaN   \n",
       "17               Indicator Removal on Host  No sub-Technique             NaN   \n",
       "18       Exploitation for Client Execution  No sub-Technique             NaN   \n",
       "19                  Foreground Persistence  No sub-Technique             NaN   \n",
       "20  System Network Configuration Discovery  No sub-Technique             NaN   \n",
       "21                         Loss of Control  No sub-Technique             NaN   \n",
       "22                         Input Injection  No sub-Technique             NaN   \n",
       "23                           Video Capture  No sub-Technique             NaN   \n",
       "\n",
       "                                          Description     id  \n",
       "0   Provide operators with redundant, out-of-band ...  T0827  \n",
       "1   XCSSET uses the plutil command to modify the L...  T1647  \n",
       "2   Industroyer contained a module which leveraged...  T0837  \n",
       "3   Protection devices should have minimal digital...  T0880  \n",
       "4   Security updates frequently contain patches to...  T1658  \n",
       "5   Users should be warned against granting access...  T1516  \n",
       "6   TianySpy can steal information via malicious J...  T1623  \n",
       "7   APT29 has used Azure Run Command and Azure Adm...  T1651  \n",
       "8   Ensure that all SIS are segmented from operati...  T0880  \n",
       "9   Pacu can run commands on EC2 instances using A...  T1651  \n",
       "10  Take and store data backups from end user syst...  T0827  \n",
       "11  AADInternals can execute commands on Azure vir...  T1651  \n",
       "12  Application vetting services may be able to de...  T1471  \n",
       "13  Users should be encouraged to be very careful ...  T1582  \n",
       "14  Users should be advised that applications gene...  T1643  \n",
       "15  YiSpecter has hijacked normal application’s la...  T1625  \n",
       "16  BOULDSPY uses a background service that can re...  T1624  \n",
       "17  Chameleon can remove artifacts of its presence...  T1630  \n",
       "18  Users should be wary of iMessages from unknown...  T1658  \n",
       "19  If a user sees a persistent notification they ...  T1541  \n",
       "20  Android 10 introduced changes that prevent nor...  T1422  \n",
       "21  Hot-standbys in diverse locations can ensure c...  T0827  \n",
       "22  An EMM/MDM can use the Android DevicePolicyMan...  T1516  \n",
       "23  Android 9 and above restricts access to the mi...  T1512  "
      ]
     },
     "execution_count": 5,
     "metadata": {},
     "output_type": "execute_result"
    }
   ],
   "source": [
    "missing"
   ]
  },
  {
   "cell_type": "code",
   "execution_count": 8,
   "metadata": {
    "execution": {
     "iopub.execute_input": "2024-08-29T17:55:06.656524Z",
     "iopub.status.busy": "2024-08-29T17:55:06.655603Z",
     "iopub.status.idle": "2024-08-29T18:07:01.953599Z",
     "shell.execute_reply": "2024-08-29T18:07:01.952627Z",
     "shell.execute_reply.started": "2024-08-29T17:55:06.656473Z"
    },
    "trusted": true
   },
   "outputs": [
    {
     "name": "stdout",
     "output_type": "stream",
     "text": [
      "1. Generating 97 descriptions for Technique ID: T0827\n",
      "Successfully generated 97 descriptions for Technique ID T0827.\n",
      "2. Generating 99 descriptions for Technique ID: T0837\n",
      "Successfully generated 99 descriptions for Technique ID T0837.\n",
      "3. Generating 98 descriptions for Technique ID: T0880\n",
      "Successfully generated 98 descriptions for Technique ID T0880.\n",
      "4. Generating 99 descriptions for Technique ID: T1422\n",
      "Successfully generated 99 descriptions for Technique ID T1422.\n",
      "5. Generating 99 descriptions for Technique ID: T1471\n",
      "Successfully generated 99 descriptions for Technique ID T1471.\n",
      "6. Generating 99 descriptions for Technique ID: T1512\n",
      "Successfully generated 99 descriptions for Technique ID T1512.\n",
      "7. Generating 98 descriptions for Technique ID: T1516\n",
      "Successfully generated 98 descriptions for Technique ID T1516.\n",
      "8. Generating 99 descriptions for Technique ID: T1541\n",
      "Successfully generated 99 descriptions for Technique ID T1541.\n",
      "9. Generating 99 descriptions for Technique ID: T1582\n",
      "Successfully generated 99 descriptions for Technique ID T1582.\n",
      "10. Generating 99 descriptions for Technique ID: T1623\n",
      "Successfully generated 99 descriptions for Technique ID T1623.\n",
      "11. Generating 99 descriptions for Technique ID: T1624\n",
      "Successfully generated 99 descriptions for Technique ID T1624.\n",
      "12. Generating 99 descriptions for Technique ID: T1625\n",
      "Successfully generated 99 descriptions for Technique ID T1625.\n",
      "13. Generating 99 descriptions for Technique ID: T1630\n",
      "Successfully generated 99 descriptions for Technique ID T1630.\n",
      "14. Generating 99 descriptions for Technique ID: T1643\n",
      "Successfully generated 99 descriptions for Technique ID T1643.\n",
      "15. Generating 99 descriptions for Technique ID: T1647\n",
      "Successfully generated 99 descriptions for Technique ID T1647.\n",
      "16. Generating 97 descriptions for Technique ID: T1651\n",
      "Successfully generated 97 descriptions for Technique ID T1651.\n",
      "17. Generating 98 descriptions for Technique ID: T1658\n",
      "Successfully generated 98 descriptions for Technique ID T1658.\n"
     ]
    }
   ],
   "source": [
    "i=0\n",
    "for id_value, group in missing.groupby('id'): #replace 'missing' with the name of the dataframe for example 'ids_chunk_1'\n",
    "    current_count = len(group)\n",
    "    if current_count < 100:\n",
    "        i += 1\n",
    "        n_descriptions = 100 - current_count\n",
    "        print(f\"{i}. Generating {n_descriptions} descriptions for Technique ID: {id_value}\")\n",
    "        \n",
    "        # Combine all existing descriptions into a single text block\n",
    "        existing_descriptions = \" \".join(group['Description'].tolist())\n",
    "\n",
    "        prompt_template = (\n",
    "            f\"Based on the following real-life attack scenarios: '{{existing_descriptions}}', \"\n",
    "            f\"generate {{n_descriptions}} additional procedure descriptions that closely relate to the MITRE technique ID {id_value}, \"\n",
    "            f\"technique name '{{technique_name}}', and \"\n",
    "            f\"tactic name '{{tactic_name}}'. \"\n",
    "            f\"Please ensure that the new attack procedure descriptions emphasize the previous attack method specifically used for attack '{{technique_name}}' and the strategic objective '{{tactic_name}}' used in these scenarios.\"\n",
    "        )\n",
    "        \n",
    "        total_generated = 0\n",
    "        max_retries = 10  # Maximum retries per technique ID\n",
    "        all_generated_descriptions = []  # List to accumulate all generated descriptions\n",
    "        \n",
    "        while total_generated < n_descriptions and max_retries > 0:\n",
    "            remaining_descriptions = n_descriptions - total_generated\n",
    "            prompt = prompt_template.format(\n",
    "                existing_descriptions=existing_descriptions,\n",
    "                n_descriptions=remaining_descriptions,\n",
    "                technique_name=group['Technique-Name'].iloc[0],\n",
    "                tactic_name=group['Tactic-Name'].iloc[0]\n",
    "            )\n",
    "            \n",
    "            # Model invocation (adjust this part according to your model API)\n",
    "            message = client.messages.create(\n",
    "                model=\"claude-3-5-sonnet-20240620\",\n",
    "                max_tokens=8192,\n",
    "                messages=[\n",
    "                    {\"role\": \"user\", \"content\": prompt}\n",
    "                ]\n",
    "            )\n",
    "            \n",
    "            # Clean the generated content\n",
    "            generated_content = clean_text(message.content[0].text)\n",
    "            \n",
    "            # Split the cleaned content into individual descriptions\n",
    "            new_generated_descriptions = generated_content.split('. ')[:remaining_descriptions]\n",
    "            \n",
    "            # Add new descriptions to the total list\n",
    "            all_generated_descriptions.extend(new_generated_descriptions)\n",
    "            total_generated = len(all_generated_descriptions)  # Update total generated count\n",
    "            \n",
    "            # Check if we got fewer than needed and decrement retry count\n",
    "            if len(new_generated_descriptions) < remaining_descriptions:\n",
    "                print(f\"Warning: Not enough descriptions generated for Technique ID {id_value}. Expected: {remaining_descriptions}, Got: {len(new_generated_descriptions)}\")\n",
    "                max_retries -= 1  # Decrement retry count\n",
    "                time.sleep(2)  # Brief delay before retry\n",
    "            else:\n",
    "                print(f\"Successfully generated {len(new_generated_descriptions)} descriptions for Technique ID {id_value}.\")\n",
    "            \n",
    "            # Delay to ensure we don't exceed 5 requests per minute\n",
    "            time.sleep(12)  # Add a delay of 12 seconds to comply with rate limits\n",
    "\n",
    "        # If retries were exhausted\n",
    "        if total_generated < n_descriptions:\n",
    "            print(f\"Error: Could not generate the required number of descriptions for Technique ID {id_value} after multiple attempts.\")\n",
    "\n",
    "        # Create a DataFrame for the new descriptions if sufficient\n",
    "        if total_generated > 0:\n",
    "            new_descriptions_df = pd.DataFrame({\n",
    "                'Technique': [id_value] * total_generated,\n",
    "                'ID': [group['ID'].iloc[0]] * total_generated,\n",
    "                'Tactic-Name': [group['Tactic-Name'].iloc[0]] * total_generated,\n",
    "                'Technique-Name': [group['Technique-Name'].iloc[0]] * total_generated,\n",
    "                'SubTechnique-Name': [group['SubTechnique-Name'].iloc[0]] * total_generated,\n",
    "                'Platforms': [group['Platforms'].iloc[0]] * total_generated,\n",
    "                'Description': all_generated_descriptions,  # Use the accumulated list\n",
    "                'id': [id_value] * total_generated\n",
    "            })\n",
    "            \n",
    "            # Append the new descriptions to the original DataFrame\n",
    "            missing = pd.concat([missing, new_descriptions_df], ignore_index=True) #replace 'missing' with the name of the dataframe for example 'ids_chunk_1'"
   ]
  },
  {
   "cell_type": "code",
   "execution_count": 9,
   "metadata": {
    "execution": {
     "iopub.execute_input": "2024-08-29T18:07:01.955653Z",
     "iopub.status.busy": "2024-08-29T18:07:01.955291Z",
     "iopub.status.idle": "2024-08-29T18:07:01.980125Z",
     "shell.execute_reply": "2024-08-29T18:07:01.979283Z",
     "shell.execute_reply.started": "2024-08-29T18:07:01.955618Z"
    },
    "trusted": true
   },
   "outputs": [
    {
     "name": "stdout",
     "output_type": "stream",
     "text": [
      "Dataset augmentation complete.\n"
     ]
    }
   ],
   "source": [
    "# Save the augmented DataFrame back to the CSV\n",
    "missing.to_csv('missing_augmented.csv', index=False)\n",
    "print(\"Dataset augmentation complete.\")"
   ]
  },
  {
   "cell_type": "markdown",
   "metadata": {},
   "source": [
    "## Specific ID augmentation"
   ]
  },
  {
   "cell_type": "code",
   "execution_count": null,
   "metadata": {
    "trusted": true
   },
   "outputs": [],
   "source": [
    "# Define the specific technique ID to focus on\n",
    "specific_technique_id = 'T1553.004'  # Replace with the desired Technique ID\n",
    "\n",
    "# Filter the DataFrame for the specific technique\n",
    "group = new[new['id'] == specific_technique_id]\n",
    "\n",
    "# Check if the count of descriptions for this technique is below the threshold (e.g., 100)\n",
    "current_count = len(group)\n",
    "if current_count < 100:\n",
    "    n_descriptions = 100 - current_count\n",
    "    print(f\"Generating {n_descriptions} descriptions for Technique ID: {specific_technique_id}\")\n",
    "    \n",
    "    # Combine all existing descriptions into a single text block\n",
    "    existing_descriptions = \" \".join(group['Description'].tolist())\n",
    "\n",
    "    prompt_template = (\n",
    "        f\"Based on the following real-life attack scenarios: '{{existing_descriptions}}', \"\n",
    "        f\"generate {{n_descriptions}} additional procedure descriptions that closely relate to the MITRE technique ID {specific_technique_id}, \"\n",
    "        f\"technique name '{{technique_name}}', and \"\n",
    "        f\"tactic name '{{tactic_name}}'. \"\n",
    "        f\"Please ensure that the new attack procedure descriptions emphasize the previous attack method specifically used for attack '{{technique_name}}' and the strategic objective '{{tactic_name}}' used in these scenarios.\"\n",
    "    )\n",
    "\n",
    "    total_generated = 0\n",
    "    max_retries = 5  # Maximum retries per technique ID\n",
    "    all_generated_descriptions = []  # List to accumulate all generated descriptions\n",
    "    \n",
    "    while total_generated < n_descriptions and max_retries > 0:\n",
    "        remaining_descriptions = n_descriptions - total_generated\n",
    "        \n",
    "        # Corrected formatting of the prompt\n",
    "        prompt = prompt_template.format(\n",
    "            existing_descriptions=existing_descriptions,\n",
    "            n_descriptions=remaining_descriptions,\n",
    "            technique_name=group['Technique-Name'].iloc[0],\n",
    "            tactic_name=group['Tactic-Name'].iloc[0]\n",
    "        )\n",
    "        \n",
    "        # Model invocation (adjust this part according to your model API)\n",
    "        # Mocked response here as we can't call the API directly\n",
    "        # Example: message = client.messages.create(...)\n",
    "        \n",
    "        # Simulate the cleaned generated content\n",
    "        generated_content = \"Generated description example. \" * remaining_descriptions  # Mocked response\n",
    "        generated_content = generated_content.strip()\n",
    "\n",
    "        # Split the cleaned content into individual descriptions\n",
    "        new_generated_descriptions = generated_content.split('. ')[:remaining_descriptions]\n",
    "        \n",
    "        # Add new descriptions to the total list\n",
    "        all_generated_descriptions.extend(new_generated_descriptions)\n",
    "        total_generated = len(all_generated_descriptions)  # Update total generated count\n",
    "        \n",
    "        # Check if we got fewer than needed and decrement retry count\n",
    "        if len(new_generated_descriptions) < remaining_descriptions:\n",
    "            print(f\"Warning: Not enough descriptions generated for Technique ID {specific_technique_id}. Expected: {remaining_descriptions}, Got: {len(new_generated_descriptions)}\")\n",
    "            max_retries -= 1  # Decrement retry count\n",
    "            # time.sleep(2)  # Brief delay before retry (Commented out for simulation)\n",
    "        else:\n",
    "            print(f\"Successfully generated {len(new_generated_descriptions)} descriptions for Technique ID {specific_technique_id}.\")\n",
    "        \n",
    "        # Simulated delay to ensure we don't exceed 5 requests per minute\n",
    "        # time.sleep(12)  # Add a delay of 12 seconds to comply with rate limits (Commented out for simulation)\n",
    "\n",
    "    # If retries were exhausted\n",
    "    if total_generated < n_descriptions:\n",
    "        print(f\"Error: Could not generate the required number of descriptions for Technique ID {specific_technique_id} after multiple attempts.\")\n",
    "\n",
    "    # Create a DataFrame for the new descriptions if sufficient\n",
    "    if total_generated > 0:\n",
    "        new_descriptions_df = pd.DataFrame({\n",
    "            'Technique': [group['Technique'].iloc[0]] * total_generated,\n",
    "            'ID': [group['ID'].iloc[0]] * total_generated,\n",
    "            'Tactic-Name': [group['Tactic-Name'].iloc[0]] * total_generated,\n",
    "            'Technique-Name': [group['Technique-Name'].iloc[0]] * total_generated,\n",
    "            'SubTechnique-Name': [group['SubTechnique-Name'].iloc[0]] * total_generated,\n",
    "            'Platforms': [group['Platforms'].iloc[0]] * total_generated,\n",
    "            'Description': all_generated_descriptions,  # Use the accumulated list\n",
    "            'id': [specific_technique_id] * total_generated\n",
    "        })\n",
    "        \n",
    "        # Append the new descriptions to the original DataFrame\n",
    "        new = pd.concat([new, new_descriptions_df], ignore_index=True)\n",
    "else:\n",
    "    print(f\"Technique ID {specific_technique_id} already has {current_count} descriptions, no additional generation needed.\")\n"
   ]
  },
  {
   "cell_type": "code",
   "execution_count": null,
   "metadata": {
    "trusted": true
   },
   "outputs": [],
   "source": [
    "new.to_csv('ids_chunk_7_augmented.csv', index=False)\n",
    "print(\"Dataset augmentation complete.\")"
   ]
  },
  {
   "cell_type": "code",
   "execution_count": 27,
   "metadata": {
    "execution": {
     "iopub.execute_input": "2024-08-28T09:40:37.874378Z",
     "iopub.status.busy": "2024-08-28T09:40:37.873661Z",
     "iopub.status.idle": "2024-08-28T09:40:37.914865Z",
     "shell.execute_reply": "2024-08-28T09:40:37.913871Z",
     "shell.execute_reply.started": "2024-08-28T09:40:37.874338Z"
    },
    "trusted": true
   },
   "outputs": [],
   "source": [
    "# Filter IDs with counts more than or equal to 100\n",
    "id_more_than_100 = id_counts[id_counts >= 100]\n",
    "\n",
    "# Get the list of IDs that have more than or equal to 100 occurrences\n",
    "id_list_more_than_100 = id_more_than_100.index.tolist()\n",
    "\n",
    "# Filter the original DataFrame to include only rows with these IDs\n",
    "df_more_than_100 = df[df['id'].isin(id_list_more_than_100)]\n",
    "\n",
    "# Save this filtered DataFrame to a new CSV file\n",
    "df_more_than_100.to_csv('ids_more_than_100.csv', index=False)"
   ]
  }
 ],
 "metadata": {
  "kaggle": {
   "accelerator": "gpu",
   "dataSources": [
    {
     "datasetId": 5210735,
     "sourceId": 8690104,
     "sourceType": "datasetVersion"
    },
    {
     "datasetId": 5443293,
     "sourceId": 9031037,
     "sourceType": "datasetVersion"
    },
    {
     "datasetId": 5614350,
     "sourceId": 9276320,
     "sourceType": "datasetVersion"
    },
    {
     "datasetId": 5614427,
     "sourceId": 9276416,
     "sourceType": "datasetVersion"
    },
    {
     "datasetId": 5676202,
     "sourceId": 9361535,
     "sourceType": "datasetVersion"
    },
    {
     "datasetId": 5815513,
     "sourceId": 9545634,
     "sourceType": "datasetVersion"
    }
   ],
   "isGpuEnabled": true,
   "isInternetEnabled": true,
   "language": "python",
   "sourceType": "notebook"
  },
  "kernelspec": {
   "display_name": "Python 3",
   "language": "python",
   "name": "python3"
  },
  "language_info": {
   "codemirror_mode": {
    "name": "ipython",
    "version": 3
   },
   "file_extension": ".py",
   "mimetype": "text/x-python",
   "name": "python",
   "nbconvert_exporter": "python",
   "pygments_lexer": "ipython3",
   "version": "3.10.14"
  }
 },
 "nbformat": 4,
 "nbformat_minor": 4
}
